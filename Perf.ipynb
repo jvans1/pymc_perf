{
 "cells": [
  {
   "cell_type": "code",
   "execution_count": 1,
   "metadata": {},
   "outputs": [],
   "source": [
    "import pymc3 as pm\n",
    "import numpy as np"
   ]
  },
  {
   "cell_type": "code",
   "execution_count": 2,
   "metadata": {},
   "outputs": [
    {
     "name": "stderr",
     "output_type": "stream",
     "text": [
      "Auto-assigning NUTS sampler...\n",
      "Initializing NUTS using jitter+adapt_diag...\n",
      "Multiprocess sampling (2 chains in 2 jobs)\n",
      "NUTS: [pct]\n",
      "Sampling 2 chains, 0 divergences: 100%|██████████| 5000/5000 [00:01<00:00, 4094.14draws/s]\n"
     ]
    }
   ],
   "source": [
    "Y = 95\n",
    "N = 100\n",
    "with pm.Model() as binomial_model1:\n",
    "    pct = pm.Beta(\"pct\", alpha=2, beta=2)\n",
    "    pm.Binomial(\"obs\", n=N, p=pct, observed=Y)\n",
    "    binomial_traces1 = pm.sample(2000, tune=500, cores=2)"
   ]
  },
  {
   "cell_type": "code",
   "execution_count": 3,
   "metadata": {},
   "outputs": [
    {
     "name": "stdout",
     "output_type": "stream",
     "text": [
      "1.66 s ± 15 ms per loop (mean ± std. dev. of 7 runs, 1 loop each)\n"
     ]
    }
   ],
   "source": [
    "%%timeit\n",
    "pm.sample_posterior_predictive(binomial_traces1, samples=5000, model=binomial_model1, progressbar=False)"
   ]
  },
  {
   "cell_type": "code",
   "execution_count": 4,
   "metadata": {},
   "outputs": [
    {
     "name": "stderr",
     "output_type": "stream",
     "text": [
      "Auto-assigning NUTS sampler...\n",
      "Initializing NUTS using jitter+adapt_diag...\n",
      "Multiprocess sampling (2 chains in 2 jobs)\n",
      "NUTS: [pct]\n",
      "Sampling 2 chains, 0 divergences: 100%|██████████| 5000/5000 [00:01<00:00, 3899.11draws/s]\n",
      "The acceptance probability does not match the target. It is 0.8912024279784507, but should be close to 0.8. Try to increase the number of tuning steps.\n"
     ]
    }
   ],
   "source": [
    "Y = 95\n",
    "N = 100\n",
    "with pm.Model() as binomial_model2:\n",
    "    Ys = pm.Data('Ys', Y)\n",
    "    ns = pm.Data('Ns', N)\n",
    "    pct = pm.Beta(\"pct\", alpha=2, beta=2)\n",
    "    pm.Binomial(\"obs\", n=ns, p=pct, observed=Ys)\n",
    "    binomial_traces2 = pm.sample(2000, tune=500, cores=2)"
   ]
  },
  {
   "cell_type": "code",
   "execution_count": 5,
   "metadata": {},
   "outputs": [
    {
     "name": "stdout",
     "output_type": "stream",
     "text": [
      "31.7 s ± 498 ms per loop (mean ± std. dev. of 7 runs, 1 loop each)\n"
     ]
    }
   ],
   "source": [
    "%%timeit\n",
    "pm.sample_posterior_predictive(binomial_traces2, samples=5000, model=binomial_model2, progressbar=False)"
   ]
  }
 ],
 "metadata": {
  "kernelspec": {
   "display_name": "Python 3",
   "language": "python",
   "name": "python3"
  },
  "language_info": {
   "codemirror_mode": {
    "name": "ipython",
    "version": 3
   },
   "file_extension": ".py",
   "mimetype": "text/x-python",
   "name": "python",
   "nbconvert_exporter": "python",
   "pygments_lexer": "ipython3",
   "version": "3.7.4"
  }
 },
 "nbformat": 4,
 "nbformat_minor": 4
}
